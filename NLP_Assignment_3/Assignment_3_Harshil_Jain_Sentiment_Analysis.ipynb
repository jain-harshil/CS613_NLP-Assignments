{
  "nbformat": 4,
  "nbformat_minor": 0,
  "metadata": {
    "colab": {
      "name": "Assignment-3_Harshil_Jain_Sentiment Analysis.ipynb",
      "provenance": [],
      "collapsed_sections": []
    },
    "kernelspec": {
      "name": "python3",
      "display_name": "Python 3"
    },
    "accelerator": "GPU"
  },
  "cells": [
    {
      "cell_type": "code",
      "metadata": {
        "id": "hhWqAOPkmQYA",
        "colab_type": "code",
        "outputId": "0c94d38c-df28-4af0-844f-3a36da95c5fd",
        "colab": {
          "base_uri": "https://localhost:8080/",
          "height": 34
        }
      },
      "source": [
        "from google.colab import drive\n",
        "drive.mount('/content/drive')"
      ],
      "execution_count": 0,
      "outputs": [
        {
          "output_type": "stream",
          "text": [
            "Drive already mounted at /content/drive; to attempt to forcibly remount, call drive.mount(\"/content/drive\", force_remount=True).\n"
          ],
          "name": "stdout"
        }
      ]
    },
    {
      "cell_type": "code",
      "metadata": {
        "id": "x7SHYGRzmcMf",
        "colab_type": "code",
        "outputId": "422c1bc9-7d6e-45dd-9e43-d00708e39cc3",
        "colab": {
          "base_uri": "https://localhost:8080/",
          "height": 62
        }
      },
      "source": [
        "import keras.callbacks\n",
        "import tensorflow as tf\n",
        "from keras.layers import Dense, Input, GlobalMaxPool1D\n",
        "from keras.layers import TimeDistributed, Bidirectional, LSTM, Lambda, concatenate\n",
        "import numpy as np\n",
        "import pandas as pd\n",
        "from keras.preprocessing.text import Tokenizer\n",
        "from keras.preprocessing.sequence import pad_sequences\n",
        "from keras.utils import to_categorical\n",
        "from keras.layers import Input, Embedding, Activation, Flatten, Dense\n",
        "from keras.layers import Conv1D, MaxPooling1D, Dropout\n",
        "from keras.models import Model\n",
        "from keras import backend as K\n",
        "from sklearn.metrics import classification_report"
      ],
      "execution_count": 0,
      "outputs": [
        {
          "output_type": "display_data",
          "data": {
            "text/html": [
              "<p style=\"color: red;\">\n",
              "The default version of TensorFlow in Colab will soon switch to TensorFlow 2.x.<br>\n",
              "We recommend you <a href=\"https://www.tensorflow.org/guide/migrate\" target=\"_blank\">upgrade</a> now \n",
              "or ensure your notebook will continue to use TensorFlow 1.x via the <code>%tensorflow_version 1.x</code> magic:\n",
              "<a href=\"https://colab.research.google.com/notebooks/tensorflow_version.ipynb\" target=\"_blank\">more info</a>.</p>\n"
            ],
            "text/plain": [
              "<IPython.core.display.HTML object>"
            ]
          },
          "metadata": {
            "tags": []
          }
        }
      ]
    },
    {
      "cell_type": "code",
      "metadata": {
        "id": "JITdDLMKnceP",
        "colab_type": "code",
        "outputId": "67932fe0-2d3d-4948-9c17-df26c7bf0dca",
        "colab": {
          "base_uri": "https://localhost:8080/",
          "height": 195
        }
      },
      "source": [
        "train_data = '/content/drive/My Drive/train.csv'\n",
        "test_data = '/content/drive/My Drive/test.csv'\n",
        "train_df = pd.read_csv(train_data,delimiter='\\t')\n",
        "test_df = pd.read_csv(test_data,delimiter = '\\t')\n",
        "train_df.head()"
      ],
      "execution_count": 0,
      "outputs": [
        {
          "output_type": "execute_result",
          "data": {
            "text/html": [
              "<div>\n",
              "<style scoped>\n",
              "    .dataframe tbody tr th:only-of-type {\n",
              "        vertical-align: middle;\n",
              "    }\n",
              "\n",
              "    .dataframe tbody tr th {\n",
              "        vertical-align: top;\n",
              "    }\n",
              "\n",
              "    .dataframe thead th {\n",
              "        text-align: right;\n",
              "    }\n",
              "</style>\n",
              "<table border=\"1\" class=\"dataframe\">\n",
              "  <thead>\n",
              "    <tr style=\"text-align: right;\">\n",
              "      <th></th>\n",
              "      <th>meta</th>\n",
              "      <th>uid</th>\n",
              "      <th>sentiment</th>\n",
              "    </tr>\n",
              "  </thead>\n",
              "  <tbody>\n",
              "    <tr>\n",
              "      <th>0</th>\n",
              "      <td>meta</td>\n",
              "      <td>3</td>\n",
              "      <td>negative</td>\n",
              "    </tr>\n",
              "    <tr>\n",
              "      <th>1</th>\n",
              "      <td>@</td>\n",
              "      <td>O</td>\n",
              "      <td>NaN</td>\n",
              "    </tr>\n",
              "    <tr>\n",
              "      <th>2</th>\n",
              "      <td>AdilNisarButt</td>\n",
              "      <td>Hin</td>\n",
              "      <td>NaN</td>\n",
              "    </tr>\n",
              "    <tr>\n",
              "      <th>3</th>\n",
              "      <td>pakistan</td>\n",
              "      <td>Hin</td>\n",
              "      <td>NaN</td>\n",
              "    </tr>\n",
              "    <tr>\n",
              "      <th>4</th>\n",
              "      <td>ka</td>\n",
              "      <td>Hin</td>\n",
              "      <td>NaN</td>\n",
              "    </tr>\n",
              "  </tbody>\n",
              "</table>\n",
              "</div>"
            ],
            "text/plain": [
              "            meta  uid sentiment\n",
              "0           meta    3  negative\n",
              "1              @    O       NaN\n",
              "2  AdilNisarButt  Hin       NaN\n",
              "3       pakistan  Hin       NaN\n",
              "4             ka  Hin       NaN"
            ]
          },
          "metadata": {
            "tags": []
          },
          "execution_count": 3
        }
      ]
    },
    {
      "cell_type": "code",
      "metadata": {
        "id": "VZvQmn-uoQyP",
        "colab_type": "code",
        "outputId": "74a16ef6-2426-4755-bdd6-ace931c232b2",
        "colab": {
          "base_uri": "https://localhost:8080/",
          "height": 195
        }
      },
      "source": [
        "test_df.head()"
      ],
      "execution_count": 0,
      "outputs": [
        {
          "output_type": "execute_result",
          "data": {
            "text/html": [
              "<div>\n",
              "<style scoped>\n",
              "    .dataframe tbody tr th:only-of-type {\n",
              "        vertical-align: middle;\n",
              "    }\n",
              "\n",
              "    .dataframe tbody tr th {\n",
              "        vertical-align: top;\n",
              "    }\n",
              "\n",
              "    .dataframe thead th {\n",
              "        text-align: right;\n",
              "    }\n",
              "</style>\n",
              "<table border=\"1\" class=\"dataframe\">\n",
              "  <thead>\n",
              "    <tr style=\"text-align: right;\">\n",
              "      <th></th>\n",
              "      <th>meta</th>\n",
              "      <th>uid</th>\n",
              "      <th>sentiment</th>\n",
              "    </tr>\n",
              "  </thead>\n",
              "  <tbody>\n",
              "    <tr>\n",
              "      <th>0</th>\n",
              "      <td>meta</td>\n",
              "      <td>8</td>\n",
              "      <td>neutral</td>\n",
              "    </tr>\n",
              "    <tr>\n",
              "      <th>1</th>\n",
              "      <td>RT</td>\n",
              "      <td>Eng</td>\n",
              "      <td>NaN</td>\n",
              "    </tr>\n",
              "    <tr>\n",
              "      <th>2</th>\n",
              "      <td>@</td>\n",
              "      <td>O</td>\n",
              "      <td>NaN</td>\n",
              "    </tr>\n",
              "    <tr>\n",
              "      <th>3</th>\n",
              "      <td>UAAPconfessions</td>\n",
              "      <td>Eng</td>\n",
              "      <td>NaN</td>\n",
              "    </tr>\n",
              "    <tr>\n",
              "      <th>4</th>\n",
              "      <td>Love</td>\n",
              "      <td>Eng</td>\n",
              "      <td>NaN</td>\n",
              "    </tr>\n",
              "  </tbody>\n",
              "</table>\n",
              "</div>"
            ],
            "text/plain": [
              "              meta  uid sentiment\n",
              "0             meta    8   neutral\n",
              "1               RT  Eng       NaN\n",
              "2                @    O       NaN\n",
              "3  UAAPconfessions  Eng       NaN\n",
              "4             Love  Eng       NaN"
            ]
          },
          "metadata": {
            "tags": []
          },
          "execution_count": 4
        }
      ]
    },
    {
      "cell_type": "code",
      "metadata": {
        "id": "9-kRwvGHogc2",
        "colab_type": "code",
        "outputId": "d450c02d-bb07-41fc-a989-4e2e4f800076",
        "colab": {
          "base_uri": "https://localhost:8080/",
          "height": 50
        }
      },
      "source": [
        "str1 = \"\"\n",
        "tweets_train = []\n",
        "sentiments_train = []\n",
        "a = train_df.loc[:,['meta','sentiment']]\n",
        "loops = a.shape[0]\n",
        "t = \"\"\n",
        "for i in range (loops):\n",
        "  if(a.iloc[i,0] == \"meta\"):\n",
        "    if (i!=0):\n",
        "      tweets_train.append(t)\n",
        "    sentiments_train.append(str(a.iloc[i,1]))\n",
        "    t = \"\"\n",
        "  else:\n",
        "    t+=str(a.iloc[i,0])\n",
        "    t+=\" \"\n",
        "tweets_train.append(t)\n",
        "print(tweets_train[0])\n",
        "print(sentiments_train[0])"
      ],
      "execution_count": 0,
      "outputs": [
        {
          "output_type": "stream",
          "text": [
            "@ AdilNisarButt pakistan ka ghra tauq he Pakistan Israel ko tasleem nahein kerta Isko Palestine kehta he - OCCUPIED PALESTINE \n",
            "negative\n"
          ],
          "name": "stdout"
        }
      ]
    },
    {
      "cell_type": "code",
      "metadata": {
        "id": "HaTSyAT2nUdT",
        "colab_type": "code",
        "outputId": "ca404ddd-7630-4816-be8f-3e2086c66636",
        "colab": {
          "base_uri": "https://localhost:8080/",
          "height": 50
        }
      },
      "source": [
        "str1 = \"\"\n",
        "tweets_test = []\n",
        "sentiments_test = []\n",
        "a = test_df.loc[:,['meta','sentiment']]\n",
        "loops = a.shape[0]\n",
        "t = \"\"\n",
        "for i in range (loops):\n",
        "  if(a.iloc[i,0] == \"meta\"):\n",
        "    if (i!=0):\n",
        "      tweets_test.append(t)\n",
        "    sentiments_test.append(str(a.iloc[i,1]))\n",
        "    t = \"\"\n",
        "  else:\n",
        "    t+=str(a.iloc[i,0])\n",
        "    t+=\" \"\n",
        "tweets_test.append(t)\n",
        "print(tweets_test[0])\n",
        "print(sentiments_test[0])"
      ],
      "execution_count": 0,
      "outputs": [
        {
          "output_type": "stream",
          "text": [
            "RT @ UAAPconfessions Love looks good on Maddie !!! Ako lang ba yung sobrang masaya kasi may zolo sya ? Before with the past Z medyo lowkey s … \n",
            "neutral\n"
          ],
          "name": "stdout"
        }
      ]
    },
    {
      "cell_type": "code",
      "metadata": {
        "id": "3UFICzDpqphK",
        "colab_type": "code",
        "colab": {}
      },
      "source": [
        "tweets_train = [i.lower() for i in tweets_train]\n",
        "tweets_test = [i.lower() for i in tweets_test]\n",
        "\n",
        "tokenizer = Tokenizer(char_level = True, oov_token = \"U\")\n",
        "tokenizer.fit_on_texts(tweets_train)\n",
        "\n",
        "tweets_train_sequences = tokenizer.texts_to_sequences(tweets_train)\n",
        "tweets_test_sequences = tokenizer.texts_to_sequences(tweets_test)\n",
        "\n",
        "train_data = pad_sequences(tweets_train_sequences,maxlen = 150,padding = \"post\")\n",
        "test_data = pad_sequences(tweets_test_sequences,maxlen = 150,padding = \"post\")"
      ],
      "execution_count": 0,
      "outputs": []
    },
    {
      "cell_type": "code",
      "metadata": {
        "id": "1PaEdSOVrvsM",
        "colab_type": "code",
        "colab": {}
      },
      "source": [
        "train_list = []\n",
        "test_list = []\n",
        "\n",
        "for i in sentiments_train:\n",
        "  if i == \"positive\":\n",
        "    train_list.append(0)\n",
        "  elif i == \"negative\":\n",
        "    train_list.append(2)\n",
        "  else:\n",
        "    train_list.append(1)\n",
        "\n",
        "train_list = np.array(train_list,dtype = 'float32')\n",
        "\n",
        "for i in sentiments_test:\n",
        "  if i == \"positive\":\n",
        "    test_list.append(0)\n",
        "  elif i == \"negative\":\n",
        "    test_list.append(2)\n",
        "  else:\n",
        "    test_list.append(1)\n",
        "\n",
        "test_list = np.array(test_list,dtype = 'float32')\n",
        "\n",
        "#convert to np.array\n",
        "\n",
        "train_data = np.array(train_data)\n",
        "test_data = np.array(test_data)\n",
        "\n",
        "train_list = to_categorical(train_list)\n",
        "test_list = to_categorical(test_list)"
      ],
      "execution_count": 0,
      "outputs": []
    },
    {
      "cell_type": "code",
      "metadata": {
        "id": "74ejSBn9wQRI",
        "colab_type": "code",
        "outputId": "d12bdbea-23c8-484f-9476-71b597a2a09d",
        "colab": {
          "base_uri": "https://localhost:8080/",
          "height": 34
        }
      },
      "source": [
        "inp_size = 150\n",
        "v_size = len(tokenizer.word_index) #900\n",
        "no_classes = 3\n",
        "dropout = 0.5\n",
        "\n",
        "weights = []\n",
        "weights.append(np.zeros(900))\n",
        "for _,i in tokenizer.word_index.items():\n",
        "  t = np.zeros(v_size)\n",
        "  t[i-1] = 1\n",
        "  weights.append(t)\n",
        "weights = np.array(weights)\n",
        "weights.shape"
      ],
      "execution_count": 0,
      "outputs": [
        {
          "output_type": "execute_result",
          "data": {
            "text/plain": [
              "(901, 900)"
            ]
          },
          "metadata": {
            "tags": []
          },
          "execution_count": 10
        }
      ]
    },
    {
      "cell_type": "code",
      "metadata": {
        "id": "SumShHpt3KMz",
        "colab_type": "code",
        "outputId": "c3cb7586-9661-4b30-ed14-0fe2106ae611",
        "colab": {
          "base_uri": "https://localhost:8080/",
          "height": 1000
        }
      },
      "source": [
        "embedding = Embedding(v_size+1,900,weights = [weights])\n",
        "input1 = Input(shape = (inp_size,),dtype = 'int64') # (?,150)\n",
        "\n",
        "layer = embedding(input1)\n",
        "# Convolution 1D and MaxPooling 1D\n",
        "\n",
        "layer = Conv1D(512,6)(layer)\n",
        "layer = Activation('relu')(layer)\n",
        "layer = MaxPooling1D(3)(layer)\n",
        "\n",
        "layer = Conv1D(512,3)(layer)\n",
        "layer = Activation('relu')(layer)\n",
        "layer = MaxPooling1D(2)(layer)\n",
        "\n",
        "layer = Conv1D(512,3)(layer)\n",
        "layer = Activation('relu')(layer)\n",
        "#layer = MaxPooling1D(2)(layer)\n",
        "\n",
        "layer = Conv1D(256,3)(layer)\n",
        "layer = Activation('relu')(layer)\n",
        "#layer = MaxPooling1D(2)(layer)\n",
        "\n",
        "layer = Conv1D(256,3)(layer)\n",
        "layer = Activation('relu')(layer)\n",
        "\n",
        "layer = Conv1D(256,3)(layer)\n",
        "layer = Activation('relu')(layer)\n",
        "layer = MaxPooling1D(2)(layer)\n",
        "\n",
        "layer = Flatten()(layer) #(?,1792)\n",
        "\n",
        "layer = Dense(1024,activation = \"relu\")(layer)\n",
        "layer = Dropout(dropout)(layer)\n",
        "layer = Dense(1024,activation=\"relu\")(layer)\n",
        "layer = Dropout(dropout)(layer) #(?,1024)\n",
        "\n",
        "final = Dense(3,activation = \"softmax\")(layer)\n",
        "\n",
        "model = Model(inputs = input1,outputs = final)\n",
        "\n",
        "model.compile(optimizer = \"adam\",loss = \"categorical_crossentropy\",metrics = ['accuracy'])\n",
        "\n",
        "model.summary()"
      ],
      "execution_count": 0,
      "outputs": [
        {
          "output_type": "stream",
          "text": [
            "WARNING:tensorflow:From /usr/local/lib/python3.6/dist-packages/keras/backend/tensorflow_backend.py:66: The name tf.get_default_graph is deprecated. Please use tf.compat.v1.get_default_graph instead.\n",
            "\n",
            "WARNING:tensorflow:From /usr/local/lib/python3.6/dist-packages/keras/backend/tensorflow_backend.py:541: The name tf.placeholder is deprecated. Please use tf.compat.v1.placeholder instead.\n",
            "\n",
            "WARNING:tensorflow:From /usr/local/lib/python3.6/dist-packages/keras/backend/tensorflow_backend.py:4432: The name tf.random_uniform is deprecated. Please use tf.random.uniform instead.\n",
            "\n",
            "WARNING:tensorflow:From /usr/local/lib/python3.6/dist-packages/keras/backend/tensorflow_backend.py:190: The name tf.get_default_session is deprecated. Please use tf.compat.v1.get_default_session instead.\n",
            "\n",
            "WARNING:tensorflow:From /usr/local/lib/python3.6/dist-packages/keras/backend/tensorflow_backend.py:197: The name tf.ConfigProto is deprecated. Please use tf.compat.v1.ConfigProto instead.\n",
            "\n",
            "WARNING:tensorflow:From /usr/local/lib/python3.6/dist-packages/keras/backend/tensorflow_backend.py:203: The name tf.Session is deprecated. Please use tf.compat.v1.Session instead.\n",
            "\n",
            "WARNING:tensorflow:From /usr/local/lib/python3.6/dist-packages/keras/backend/tensorflow_backend.py:207: The name tf.global_variables is deprecated. Please use tf.compat.v1.global_variables instead.\n",
            "\n",
            "WARNING:tensorflow:From /usr/local/lib/python3.6/dist-packages/keras/backend/tensorflow_backend.py:216: The name tf.is_variable_initialized is deprecated. Please use tf.compat.v1.is_variable_initialized instead.\n",
            "\n",
            "WARNING:tensorflow:From /usr/local/lib/python3.6/dist-packages/keras/backend/tensorflow_backend.py:223: The name tf.variables_initializer is deprecated. Please use tf.compat.v1.variables_initializer instead.\n",
            "\n",
            "WARNING:tensorflow:From /usr/local/lib/python3.6/dist-packages/keras/backend/tensorflow_backend.py:4267: The name tf.nn.max_pool is deprecated. Please use tf.nn.max_pool2d instead.\n",
            "\n",
            "WARNING:tensorflow:From /usr/local/lib/python3.6/dist-packages/keras/backend/tensorflow_backend.py:148: The name tf.placeholder_with_default is deprecated. Please use tf.compat.v1.placeholder_with_default instead.\n",
            "\n",
            "WARNING:tensorflow:From /usr/local/lib/python3.6/dist-packages/keras/backend/tensorflow_backend.py:3733: calling dropout (from tensorflow.python.ops.nn_ops) with keep_prob is deprecated and will be removed in a future version.\n",
            "Instructions for updating:\n",
            "Please use `rate` instead of `keep_prob`. Rate should be set to `rate = 1 - keep_prob`.\n",
            "WARNING:tensorflow:From /usr/local/lib/python3.6/dist-packages/keras/optimizers.py:793: The name tf.train.Optimizer is deprecated. Please use tf.compat.v1.train.Optimizer instead.\n",
            "\n",
            "WARNING:tensorflow:From /usr/local/lib/python3.6/dist-packages/keras/backend/tensorflow_backend.py:3576: The name tf.log is deprecated. Please use tf.math.log instead.\n",
            "\n",
            "Model: \"model_1\"\n",
            "_________________________________________________________________\n",
            "Layer (type)                 Output Shape              Param #   \n",
            "=================================================================\n",
            "input_1 (InputLayer)         (None, 150)               0         \n",
            "_________________________________________________________________\n",
            "embedding_1 (Embedding)      (None, 150, 900)          810900    \n",
            "_________________________________________________________________\n",
            "conv1d_1 (Conv1D)            (None, 145, 512)          2765312   \n",
            "_________________________________________________________________\n",
            "activation_1 (Activation)    (None, 145, 512)          0         \n",
            "_________________________________________________________________\n",
            "max_pooling1d_1 (MaxPooling1 (None, 48, 512)           0         \n",
            "_________________________________________________________________\n",
            "conv1d_2 (Conv1D)            (None, 46, 512)           786944    \n",
            "_________________________________________________________________\n",
            "activation_2 (Activation)    (None, 46, 512)           0         \n",
            "_________________________________________________________________\n",
            "max_pooling1d_2 (MaxPooling1 (None, 23, 512)           0         \n",
            "_________________________________________________________________\n",
            "conv1d_3 (Conv1D)            (None, 21, 512)           786944    \n",
            "_________________________________________________________________\n",
            "activation_3 (Activation)    (None, 21, 512)           0         \n",
            "_________________________________________________________________\n",
            "conv1d_4 (Conv1D)            (None, 19, 256)           393472    \n",
            "_________________________________________________________________\n",
            "activation_4 (Activation)    (None, 19, 256)           0         \n",
            "_________________________________________________________________\n",
            "conv1d_5 (Conv1D)            (None, 17, 256)           196864    \n",
            "_________________________________________________________________\n",
            "activation_5 (Activation)    (None, 17, 256)           0         \n",
            "_________________________________________________________________\n",
            "conv1d_6 (Conv1D)            (None, 15, 256)           196864    \n",
            "_________________________________________________________________\n",
            "activation_6 (Activation)    (None, 15, 256)           0         \n",
            "_________________________________________________________________\n",
            "max_pooling1d_3 (MaxPooling1 (None, 7, 256)            0         \n",
            "_________________________________________________________________\n",
            "flatten_1 (Flatten)          (None, 1792)              0         \n",
            "_________________________________________________________________\n",
            "dense_1 (Dense)              (None, 1024)              1836032   \n",
            "_________________________________________________________________\n",
            "dropout_1 (Dropout)          (None, 1024)              0         \n",
            "_________________________________________________________________\n",
            "dense_2 (Dense)              (None, 1024)              1049600   \n",
            "_________________________________________________________________\n",
            "dropout_2 (Dropout)          (None, 1024)              0         \n",
            "_________________________________________________________________\n",
            "dense_3 (Dense)              (None, 3)                 3075      \n",
            "=================================================================\n",
            "Total params: 8,826,007\n",
            "Trainable params: 8,826,007\n",
            "Non-trainable params: 0\n",
            "_________________________________________________________________\n"
          ],
          "name": "stdout"
        }
      ]
    },
    {
      "cell_type": "code",
      "metadata": {
        "id": "6MaSuNkm6RGg",
        "colab_type": "code",
        "outputId": "f07b3ea0-b033-436e-88a7-5462927193c2",
        "colab": {
          "base_uri": "https://localhost:8080/",
          "height": 1000
        }
      },
      "source": [
        "model.fit(train_data,train_list,validation_data=(test_data,test_list),batch_size=128,epochs = 25,verbose=1)"
      ],
      "execution_count": 0,
      "outputs": [
        {
          "output_type": "stream",
          "text": [
            "WARNING:tensorflow:From /usr/local/lib/python3.6/dist-packages/tensorflow_core/python/ops/math_grad.py:1424: where (from tensorflow.python.ops.array_ops) is deprecated and will be removed in a future version.\n",
            "Instructions for updating:\n",
            "Use tf.where in 2.0, which has the same broadcast rule as np.where\n",
            "WARNING:tensorflow:From /usr/local/lib/python3.6/dist-packages/keras/backend/tensorflow_backend.py:1033: The name tf.assign_add is deprecated. Please use tf.compat.v1.assign_add instead.\n",
            "\n",
            "WARNING:tensorflow:From /usr/local/lib/python3.6/dist-packages/keras/backend/tensorflow_backend.py:1020: The name tf.assign is deprecated. Please use tf.compat.v1.assign instead.\n",
            "\n",
            "Train on 13524 samples, validate on 1869 samples\n",
            "Epoch 1/25\n",
            "13524/13524 [==============================] - 26s 2ms/step - loss: 1.0900 - acc: 0.3644 - val_loss: 1.0517 - val_acc: 0.4259\n",
            "Epoch 2/25\n",
            "13524/13524 [==============================] - 21s 2ms/step - loss: 1.0016 - acc: 0.4686 - val_loss: 1.0207 - val_acc: 0.4612\n",
            "Epoch 3/25\n",
            "13524/13524 [==============================] - 21s 2ms/step - loss: 0.9112 - acc: 0.5448 - val_loss: 1.0192 - val_acc: 0.5072\n",
            "Epoch 4/25\n",
            "13524/13524 [==============================] - 21s 2ms/step - loss: 0.8587 - acc: 0.5902 - val_loss: 0.9759 - val_acc: 0.5276\n",
            "Epoch 5/25\n",
            "13524/13524 [==============================] - 21s 2ms/step - loss: 0.7972 - acc: 0.6330 - val_loss: 1.1191 - val_acc: 0.5094\n",
            "Epoch 6/25\n",
            "13524/13524 [==============================] - 21s 2ms/step - loss: 0.7467 - acc: 0.6588 - val_loss: 1.0755 - val_acc: 0.5393\n",
            "Epoch 7/25\n",
            "13524/13524 [==============================] - 21s 2ms/step - loss: 0.6704 - acc: 0.7079 - val_loss: 1.0278 - val_acc: 0.5383\n",
            "Epoch 8/25\n",
            "13524/13524 [==============================] - 21s 2ms/step - loss: 0.5891 - acc: 0.7547 - val_loss: 1.3148 - val_acc: 0.5415\n",
            "Epoch 9/25\n",
            "13524/13524 [==============================] - 21s 2ms/step - loss: 0.5013 - acc: 0.8009 - val_loss: 1.5693 - val_acc: 0.5211\n",
            "Epoch 10/25\n",
            "13524/13524 [==============================] - 21s 2ms/step - loss: 0.4127 - acc: 0.8381 - val_loss: 1.5256 - val_acc: 0.5297\n",
            "Epoch 11/25\n",
            "13524/13524 [==============================] - 21s 2ms/step - loss: 0.3166 - acc: 0.8816 - val_loss: 1.5759 - val_acc: 0.5222\n",
            "Epoch 12/25\n",
            "13524/13524 [==============================] - 21s 2ms/step - loss: 0.2866 - acc: 0.8948 - val_loss: 1.8530 - val_acc: 0.5259\n",
            "Epoch 13/25\n",
            "13524/13524 [==============================] - 21s 2ms/step - loss: 0.2069 - acc: 0.9298 - val_loss: 1.9914 - val_acc: 0.5169\n",
            "Epoch 14/25\n",
            "13524/13524 [==============================] - 21s 2ms/step - loss: 0.1688 - acc: 0.9418 - val_loss: 2.2864 - val_acc: 0.5147\n",
            "Epoch 15/25\n",
            "13524/13524 [==============================] - 21s 2ms/step - loss: 0.1455 - acc: 0.9509 - val_loss: 2.2127 - val_acc: 0.5281\n",
            "Epoch 16/25\n",
            "13524/13524 [==============================] - 21s 2ms/step - loss: 0.1289 - acc: 0.9573 - val_loss: 2.2279 - val_acc: 0.5152\n",
            "Epoch 17/25\n",
            "13524/13524 [==============================] - 21s 2ms/step - loss: 0.0999 - acc: 0.9693 - val_loss: 2.4737 - val_acc: 0.5243\n",
            "Epoch 18/25\n",
            "13524/13524 [==============================] - 21s 2ms/step - loss: 0.0976 - acc: 0.9692 - val_loss: 2.3969 - val_acc: 0.5051\n",
            "Epoch 19/25\n",
            "13524/13524 [==============================] - 21s 2ms/step - loss: 0.0868 - acc: 0.9723 - val_loss: 2.5918 - val_acc: 0.5345\n",
            "Epoch 20/25\n",
            "13524/13524 [==============================] - 21s 2ms/step - loss: 0.0827 - acc: 0.9743 - val_loss: 2.6815 - val_acc: 0.5265\n",
            "Epoch 21/25\n",
            "13524/13524 [==============================] - 21s 2ms/step - loss: 0.0808 - acc: 0.9735 - val_loss: 2.7765 - val_acc: 0.5190\n",
            "Epoch 22/25\n",
            "13524/13524 [==============================] - 21s 2ms/step - loss: 0.0912 - acc: 0.9711 - val_loss: 2.4732 - val_acc: 0.5131\n",
            "Epoch 23/25\n",
            "13524/13524 [==============================] - 21s 2ms/step - loss: 0.0808 - acc: 0.9727 - val_loss: 2.7442 - val_acc: 0.5222\n",
            "Epoch 24/25\n",
            "13524/13524 [==============================] - 21s 2ms/step - loss: 0.0746 - acc: 0.9760 - val_loss: 2.7666 - val_acc: 0.5195\n",
            "Epoch 25/25\n",
            "13524/13524 [==============================] - 21s 2ms/step - loss: 0.0431 - acc: 0.9870 - val_loss: 2.8154 - val_acc: 0.5217\n"
          ],
          "name": "stdout"
        },
        {
          "output_type": "execute_result",
          "data": {
            "text/plain": [
              "<keras.callbacks.History at 0x7fabdbc90390>"
            ]
          },
          "metadata": {
            "tags": []
          },
          "execution_count": 12
        }
      ]
    },
    {
      "cell_type": "code",
      "metadata": {
        "id": "CzGwvgSrM2w0",
        "colab_type": "code",
        "outputId": "92db77d8-eac6-480b-c625-074fd5111480",
        "colab": {
          "base_uri": "https://localhost:8080/",
          "height": 202
        }
      },
      "source": [
        "y_pred = model.predict(test_data, batch_size=64, verbose=1)\n",
        "y_pred_bool = np.argmax(y_pred, axis=1)\n",
        "#print(y_pred_bool)\n",
        "test_list1 = np.argmax(test_list,axis = 1)\n",
        "print(classification_report(test_list1, y_pred_bool))\n",
        "#Here 0 is negative, 1 is neutral and 2 is positive"
      ],
      "execution_count": 0,
      "outputs": [
        {
          "output_type": "stream",
          "text": [
            "1869/1869 [==============================] - 1s 706us/step\n",
            "              precision    recall  f1-score   support\n",
            "\n",
            "           0       0.56      0.48      0.52       582\n",
            "           1       0.48      0.61      0.54       754\n",
            "           2       0.58      0.44      0.50       533\n",
            "\n",
            "    accuracy                           0.52      1869\n",
            "   macro avg       0.54      0.51      0.52      1869\n",
            "weighted avg       0.53      0.52      0.52      1869\n",
            "\n"
          ],
          "name": "stdout"
        }
      ]
    }
  ]
}